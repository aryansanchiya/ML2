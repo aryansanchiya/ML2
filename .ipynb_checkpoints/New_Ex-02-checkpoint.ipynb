{
 "cells": [
  {
   "cell_type": "code",
   "execution_count": 2,
   "id": "07440910",
   "metadata": {},
   "outputs": [],
   "source": [
    "import pandas as pd\n",
    "import matplotlib.pyplot as plt\n",
    "import seaborn as sn"
   ]
  },
  {
   "cell_type": "code",
   "execution_count": 53,
   "id": "1769bfc2",
   "metadata": {},
   "outputs": [],
   "source": [
    "population_df = pd.read_csv(\"6 class csv.csv\")"
   ]
  },
  {
   "cell_type": "raw",
   "id": "8ee476af",
   "metadata": {},
   "source": [
    "population_df"
   ]
  },
  {
   "cell_type": "raw",
   "id": "349333a5",
   "metadata": {},
   "source": [
    "list(population_df.columns)"
   ]
  },
  {
   "cell_type": "raw",
   "id": "e92447e8",
   "metadata": {},
   "source": [
    "population_df.info()"
   ]
  },
  {
   "cell_type": "raw",
   "id": "fcfe204e",
   "metadata": {},
   "source": [
    "population_df[0:10]"
   ]
  },
  {
   "cell_type": "raw",
   "id": "53e603b8",
   "metadata": {},
   "source": [
    "population_df.head(100)"
   ]
  },
  {
   "cell_type": "raw",
   "id": "fe88fdb7",
   "metadata": {},
   "source": [
    "population_df.transpose().head(5)"
   ]
  },
  {
   "cell_type": "raw",
   "id": "f31a7b1a",
   "metadata": {},
   "source": [
    "population_df.shape"
   ]
  },
  {
   "cell_type": "raw",
   "id": "79ed0f79",
   "metadata": {},
   "source": [
    "population_df"
   ]
  },
  {
   "cell_type": "raw",
   "id": "981a60bb",
   "metadata": {},
   "source": [
    "pd.crosstab(population_df['Country (or dependency)'],population_df['World Share'])"
   ]
  },
  {
   "cell_type": "raw",
   "id": "bbb7a5ed",
   "metadata": {},
   "source": [
    "population_df[['Country (or dependency)','Fert. Rate']].sort_values(\"Fert. Rate\")[:20]"
   ]
  },
  {
   "cell_type": "raw",
   "id": "557914e5",
   "metadata": {},
   "source": [
    "list(population_df.columns)"
   ]
  },
  {
   "cell_type": "raw",
   "id": "be4ab361",
   "metadata": {},
   "source": [
    "population_df"
   ]
  },
  {
   "cell_type": "code",
   "execution_count": null,
   "id": "c8594d9e",
   "metadata": {},
   "outputs": [],
   "source": []
  },
  {
   "cell_type": "raw",
   "id": "deed6f68",
   "metadata": {},
   "source": []
  }
 ],
 "metadata": {
  "kernelspec": {
   "display_name": "Python 3 (ipykernel)",
   "language": "python",
   "name": "python3"
  },
  "language_info": {
   "codemirror_mode": {
    "name": "ipython",
    "version": 3
   },
   "file_extension": ".py",
   "mimetype": "text/x-python",
   "name": "python",
   "nbconvert_exporter": "python",
   "pygments_lexer": "ipython3",
   "version": "3.11.5"
  }
 },
 "nbformat": 4,
 "nbformat_minor": 5
}
